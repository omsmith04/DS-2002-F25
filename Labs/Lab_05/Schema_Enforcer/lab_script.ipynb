{
 "cells": [
  {
   "cell_type": "code",
   "execution_count": 10,
   "id": "9893b204",
   "metadata": {},
   "outputs": [],
   "source": [
    "import csv\n",
    "import os"
   ]
  },
  {
   "cell_type": "markdown",
   "id": "716afc37",
   "metadata": {},
   "source": [
    "Part 1: Task 1"
   ]
  },
  {
   "cell_type": "code",
   "execution_count": 11,
   "id": "ab6bc42d",
   "metadata": {},
   "outputs": [],
   "source": [
    "dataset = [\n",
    "   {'student_id': '1', 'major': 'Computer Science', 'GPA': '3.5', 'is_cs_major': 'Yes', 'credits_taken': '15.5'},\n",
    "   {'student_id': '2', 'major': 'Economics', 'GPA': '3', 'is_cs_major': 'No', 'credits_taken': '13.0'},\n",
    "   {'student_id': '3', 'major': 'Mathematics', 'GPA': '3.8', 'is_cs_major': 'No', 'credits_taken': '18.0'},\n",
    "   {'student_id': '4', 'major': 'Computer Science', 'GPA': '3.9', 'is_cs_major': 'Yes', 'credits_taken': '19.0'},\n",
    "   {'student_id': '5', 'major': 'Environmental Science', 'GPA': '4', 'is_cs_major': 'No', 'credits_taken': '14.0'}\n",
    "]\n"
   ]
  },
  {
   "cell_type": "code",
   "execution_count": 12,
   "id": "97ffb00f",
   "metadata": {},
   "outputs": [
    {
     "name": "stdout",
     "output_type": "stream",
     "text": [
      "Raw data written to /workspaces/DS-2002-F25/Labs/Lab_05/Schema_Enforcer/raw_survey_data.csv\n"
     ]
    }
   ],
   "source": [
    "with open('raw_survey_data.csv', \"w\", newline=\"\") as csvfile:\n",
    "  header = ['student_id', 'major', 'GPA', 'is_cs_major', 'credits_taken']\n",
    "  writer = csv.DictWriter(csvfile, fieldnames=header)\n",
    "  writer.writeheader()\n",
    "  writer.writerows(dataset)\n",
    "print(f\"Raw data written to {os.path.abspath('raw_survey_data.csv')}\")"
   ]
  },
  {
   "cell_type": "markdown",
   "id": "8d9caa26",
   "metadata": {},
   "source": [
    "Task 2: JSON"
   ]
  },
  {
   "cell_type": "code",
   "execution_count": 13,
   "id": "d75eef2a",
   "metadata": {},
   "outputs": [],
   "source": [
    "import json"
   ]
  },
  {
   "cell_type": "code",
   "execution_count": 14,
   "id": "b36a9e35",
   "metadata": {},
   "outputs": [],
   "source": [
    "courses =[\n",
    " {\n",
    "   \"course_id\": \"DS2002\",\n",
    "   \"section\": \"001\",\n",
    "   \"title\": \"Data Science Systems\",\n",
    "   \"level\": 2000,\n",
    "   \"instructors\": [\n",
    "     {\"name\": \"Austin Rivera\", \"role\": \"Primary\"},\n",
    "     {\"name\": \"Heywood Williams-Tracy\", \"role\": \"TA\"}\n",
    "   ]\n",
    " },\n",
    " {\n",
    "   \"course_id\": \"EVSC3300\",\n",
    "   \"title\": \"Atmosphere and Weather\",\n",
    "   \"level\": 3000,\n",
    "   \"instructors\": [\n",
    "     {\"name\": \"Sally Pusede\", \"role\": \"Primary\"}\n",
    "   ]\n",
    " },\n",
    "  {\n",
    "   \"course_id\": \"EVSC3200\",\n",
    "   \"title\": \"Ecology\",\n",
    "   \"level\": 3000,\n",
    "   \"instructors\": [\n",
    "     {\"name\": \"Howard Epstein\", \"role\": \"Primary\"}\n",
    "   ]\n",
    " },\n",
    "  {\n",
    "   \"course_id\": \"MATH3350\",\n",
    "   \"title\": \"Applied Linear Algebra\",\n",
    "   \"level\": 3000,\n",
    "   \"instructors\": [\n",
    "     {\"name\": \"Jeff Holt\", \"role\": \"Primary\"}\n",
    "   ]\n",
    " }\n",
    "]\n"
   ]
  },
  {
   "cell_type": "code",
   "execution_count": 15,
   "id": "ac49b9ab",
   "metadata": {},
   "outputs": [
    {
     "name": "stdout",
     "output_type": "stream",
     "text": [
      "Raw data written to /workspaces/DS-2002-F25/Labs/Lab_05/Schema_Enforcer/raw_course_catalog.json\n"
     ]
    }
   ],
   "source": [
    " with open('raw_course_catalog.json', 'w') as jsonfile:\n",
    "   json.dump(courses, jsonfile, indent=2)\n",
    "   print(f\"Raw data written to {os.path.abspath('raw_course_catalog.json')}\")"
   ]
  },
  {
   "cell_type": "markdown",
   "id": "e8728e35",
   "metadata": {},
   "source": [
    "part 2: task 3"
   ]
  },
  {
   "cell_type": "code",
   "execution_count": 16,
   "id": "50602255",
   "metadata": {},
   "outputs": [
    {
     "name": "stdout",
     "output_type": "stream",
     "text": [
      "Requirement already satisfied: pandas in /workspaces/DS-2002-F25/.venv/lib/python3.12/site-packages (2.3.3)\n",
      "Requirement already satisfied: numpy>=1.26.0 in /workspaces/DS-2002-F25/.venv/lib/python3.12/site-packages (from pandas) (2.3.3)\n",
      "Requirement already satisfied: python-dateutil>=2.8.2 in /workspaces/DS-2002-F25/.venv/lib/python3.12/site-packages (from pandas) (2.9.0.post0)\n",
      "Requirement already satisfied: pytz>=2020.1 in /workspaces/DS-2002-F25/.venv/lib/python3.12/site-packages (from pandas) (2025.2)\n",
      "Requirement already satisfied: tzdata>=2022.7 in /workspaces/DS-2002-F25/.venv/lib/python3.12/site-packages (from pandas) (2025.2)\n",
      "Requirement already satisfied: six>=1.5 in /workspaces/DS-2002-F25/.venv/lib/python3.12/site-packages (from python-dateutil>=2.8.2->pandas) (1.17.0)\n"
     ]
    }
   ],
   "source": [
    "!pip install pandas\n",
    "import pandas as pd"
   ]
  },
  {
   "cell_type": "code",
   "execution_count": 18,
   "id": "704ad96b",
   "metadata": {},
   "outputs": [
    {
     "name": "stdout",
     "output_type": "stream",
     "text": [
      "Cleaned data written to /workspaces/DS-2002-F25/Labs/Lab_05/Schema_Enforcer/clean_survey_data.csv\n"
     ]
    },
    {
     "name": "stderr",
     "output_type": "stream",
     "text": [
      "/tmp/ipykernel_5484/2764118783.py:2: FutureWarning: Downcasting behavior in `replace` is deprecated and will be removed in a future version. To retain the old behavior, explicitly call `result.infer_objects(copy=False)`. To opt-in to the future behavior, set `pd.set_option('future.no_silent_downcasting', True)`\n",
      "  students['is_cs_major'] = students['is_cs_major'].replace({'Yes': True, 'No': False})\n"
     ]
    }
   ],
   "source": [
    "students = pd.read_csv('raw_survey_data.csv')\n",
    "students['is_cs_major'] = students['is_cs_major'].replace({'Yes': True, 'No': False})\n",
    "students[['credits_taken', 'GPA']] = students[['credits_taken', 'GPA']].astype(float)\n",
    "students.to_csv('clean_survey_data.csv', index=False)\n",
    "print(f\"Cleaned data written to {os.path.abspath('clean_survey_data.csv')}\")\n"
   ]
  },
  {
   "cell_type": "markdown",
   "id": "3ae6023d",
   "metadata": {},
   "source": [
    "Task 4"
   ]
  },
  {
   "cell_type": "code",
   "execution_count": 19,
   "id": "ce3bc9ed",
   "metadata": {},
   "outputs": [],
   "source": [
    "with open('raw_course_catalog.json') as jsonfile:\n",
    "    courses = json.load(jsonfile)"
   ]
  },
  {
   "cell_type": "code",
   "execution_count": 20,
   "id": "4fbd1116",
   "metadata": {},
   "outputs": [],
   "source": [
    "courses_df = pd.json_normalize(courses, record_path=['instructors'], meta=['course_id', 'title', 'level'])"
   ]
  },
  {
   "cell_type": "code",
   "execution_count": 22,
   "id": "b063acc8",
   "metadata": {},
   "outputs": [],
   "source": [
    "courses_df.to_csv('clean_course_catalog.csv', index=False)"
   ]
  },
  {
   "cell_type": "markdown",
   "id": "c630d6c4",
   "metadata": {},
   "source": [
    "Part 3: Schema"
   ]
  },
  {
   "cell_type": "code",
   "execution_count": null,
   "id": "ea34b5f2",
   "metadata": {},
   "outputs": [],
   "source": []
  }
 ],
 "metadata": {
  "kernelspec": {
   "display_name": ".venv",
   "language": "python",
   "name": "python3"
  },
  "language_info": {
   "codemirror_mode": {
    "name": "ipython",
    "version": 3
   },
   "file_extension": ".py",
   "mimetype": "text/x-python",
   "name": "python",
   "nbconvert_exporter": "python",
   "pygments_lexer": "ipython3",
   "version": "3.12.3"
  }
 },
 "nbformat": 4,
 "nbformat_minor": 5
}
